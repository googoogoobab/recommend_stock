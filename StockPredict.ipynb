{
 "cells": [
  {
   "cell_type": "code",
   "execution_count": null,
   "id": "64819795",
   "metadata": {},
   "outputs": [],
   "source": [
    "import PrepareData\n",
    "\n",
    "start_date=\"2021-03-12\"\n",
    "last_date=\"2022-05-02\"\n",
    "stock_name=\"Coupang\"\n",
    "\n",
    "start_date=\"2020-11-01\"\n",
    "last_date=\"2022-05-02\"\n",
    "stock_name=\"palantir\"\n",
    "\n",
    "\n",
    "start_date=\"2016-01-01\"\n",
    "last_date=\"2022-05-24\"\n",
    "stock_name=\"Tesla\"\n",
    "train_set, test_set,only_stock_train_set, only_stock_test_set=PrepareData.getPreaparedData(stock_name,start_date,last_date)"
   ]
  },
  {
   "cell_type": "code",
   "execution_count": null,
   "id": "a67c38a7",
   "metadata": {},
   "outputs": [],
   "source": [
    "train_data, target_data, test_train_data, test_target_data=PrepareData.makeLSTMDataSet(train_set, test_set)\n",
    "only_stock_train_data, only_stock_target_data, only_stock_test_train_data, only_stock_test_target_data=PrepareData.makeLSTMDataSet(only_stock_train_set, only_stock_test_set)"
   ]
  },
  {
   "cell_type": "code",
   "execution_count": null,
   "id": "ae687208",
   "metadata": {},
   "outputs": [],
   "source": [
    "import MakeLSTMModel\n",
    "\n",
    "best_model=MakeLSTMModel.getBestModel(train_data,target_data,\"recommend_stock\")\n",
    "best_model.fit(train_data, target_data, epochs = 1000, validation_data = (test_train_data, test_target_data))\n",
    "best_model.save(\"best_model.h5\")"
   ]
  },
  {
   "cell_type": "code",
   "execution_count": null,
   "id": "2f0c8107",
   "metadata": {},
   "outputs": [],
   "source": [
    "only_stock_best_model=MakeLSTMModel.getBestModel(only_stock_train_data,only_stock_target_data,\"only_stock_recommend_stock\")\n",
    "only_stock_best_model.fit(only_stock_train_data, only_stock_target_data, epochs = 1000, validation_data = (only_stock_test_train_data, only_stock_test_target_data))\n",
    "only_stock_best_model.save(\"only_stock_best_model.h5\")"
   ]
  },
  {
   "cell_type": "code",
   "execution_count": null,
   "id": "065d99cc",
   "metadata": {},
   "outputs": [],
   "source": [
    "import EvalTool\n",
    "\n",
    "EvalTool.printEval('best_model.h5',test_target_data, test_train_data)"
   ]
  },
  {
   "cell_type": "code",
   "execution_count": null,
   "id": "71b0f24c",
   "metadata": {},
   "outputs": [],
   "source": [
    "\n",
    "EvalTool.printEval('only_stock_best_model.h5',only_stock_test_target_data, only_stock_test_train_data)"
   ]
  }
 ],
 "metadata": {
  "interpreter": {
   "hash": "9025820792687d1c0da7b36e0715d77bd799d253179141298c77d4d0bf6c43dc"
  },
  "kernelspec": {
   "display_name": "Python 3 (ipykernel)",
   "language": "python",
   "name": "python3"
  },
  "language_info": {
   "codemirror_mode": {
    "name": "ipython",
    "version": 3
   },
   "file_extension": ".py",
   "mimetype": "text/x-python",
   "name": "python",
   "nbconvert_exporter": "python",
   "pygments_lexer": "ipython3",
   "version": "3.7.13"
  }
 },
 "nbformat": 4,
 "nbformat_minor": 5
}
